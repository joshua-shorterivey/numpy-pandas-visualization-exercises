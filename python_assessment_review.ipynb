{
 "cells": [
  {
   "cell_type": "markdown",
   "id": "314f3d01-08ab-4c6b-b0be-7e1f380d03f6",
   "metadata": {},
   "source": [
    "## Python + Pandas Assessment Review"
   ]
  },
  {
   "cell_type": "markdown",
   "id": "127e90e2-4b5f-42d2-a9cc-8dcdfef3f74b",
   "metadata": {},
   "source": [
    "#### We will be working with the following information defined in the cell below."
   ]
  },
  {
   "cell_type": "code",
   "execution_count": 2,
   "id": "3496f5db-06e9-47e6-b3b3-414f4ede5838",
   "metadata": {},
   "outputs": [],
   "source": [
    "students = [\n",
    "    {'exam_score': 67.5743737055, 'hours_studied': 8.4786921255, 'used_flashcards': True,  'handedness': 'left',  'coffee_consumed': 4,  'hours_slept': 7},\n",
    "    {'exam_score': 59.0983982874, 'hours_studied': 5.7737531404, 'used_flashcards': True,  'handedness': 'right', 'coffee_consumed': 5,  'hours_slept': 6},\n",
    "    {'exam_score': 40.2353236205, 'hours_studied': 4.2802273056, 'used_flashcards': True,  'handedness': 'left',  'coffee_consumed': 6,  'hours_slept': 5},\n",
    "    {'exam_score': 68.5728466901, 'hours_studied': 8.2049689336, 'used_flashcards': False, 'handedness': 'right', 'coffee_consumed': 4,  'hours_slept': 7},\n",
    "    {'exam_score': 78.8909132563, 'hours_studied': 8.8873825943, 'used_flashcards': False, 'handedness': 'right', 'coffee_consumed': 3,  'hours_slept': 8},\n",
    "    {'exam_score': 99.6285927929, 'hours_studied': 5.8875768158, 'used_flashcards': True,  'handedness': 'left',  'coffee_consumed': 1,  'hours_slept': 10},\n",
    "    {'exam_score': 71.5376019923, 'hours_studied': 8.6755289037, 'used_flashcards': True,  'handedness': 'right', 'coffee_consumed': 3,  'hours_slept': 8},\n",
    "    {'exam_score': 91.209319196,  'hours_studied': 7.7949349686, 'used_flashcards': True,  'handedness': 'left',  'coffee_consumed': 1,  'hours_slept': 10},\n",
    "    {'exam_score': 95.637085652,  'hours_studied': 9.6774379788, 'used_flashcards': False, 'handedness': 'left',  'coffee_consumed': 1,  'hours_slept': 10},\n",
    "    {'exam_score': 7.3505796632,  'hours_studied': 1.8010865962, 'used_flashcards': True,  'handedness': 'right', 'coffee_consumed': 10, 'hours_slept': 1},\n",
    "    {'exam_score': 100.0,         'hours_studied': 9.1262910299, 'used_flashcards': False, 'handedness': 'left',  'coffee_consumed': 0,  'hours_slept': 11},\n",
    "    {'exam_score': 73.1646225026, 'hours_studied': 5.8875512702, 'used_flashcards': True,  'handedness': 'right', 'coffee_consumed': 3,  'hours_slept': 8},\n",
    "    {'exam_score': 1.697188914,   'hours_studied': 0.8023294541, 'used_flashcards': False, 'handedness': 'right', 'coffee_consumed': 10, 'hours_slept': 1},\n",
    "    {'exam_score': 48.3173646693, 'hours_studied': 3.6138789305, 'used_flashcards': False, 'handedness': 'left',  'coffee_consumed': 6,  'hours_slept': 5},\n",
    "    {'exam_score': 57.0423484485, 'hours_studied': 5.9414471409, 'used_flashcards': True,  'handedness': 'right', 'coffee_consumed': 5,  'hours_slept': 6},\n",
    "    {'exam_score': 65.7118765165, 'hours_studied': 4.6605301,    'used_flashcards': False, 'handedness': 'right', 'coffee_consumed': 4,  'hours_slept': 7},\n",
    "    {'exam_score': 63.934268264,  'hours_studied': 6.4878477492, 'used_flashcards': True,  'handedness': 'right', 'coffee_consumed': 4,  'hours_slept': 7},\n",
    "    {'exam_score': 100.0,         'hours_studied': 8.1237310876, 'used_flashcards': False, 'handedness': 'right', 'coffee_consumed': 0,  'hours_slept': 11},\n",
    "    {'exam_score': 35.7436570401, 'hours_studied': 3.1974628076, 'used_flashcards': False, 'handedness': 'right', 'coffee_consumed': 7,  'hours_slept': 4},\n",
    "    {'exam_score': 53.2002957528, 'hours_studied': 4.5502066553, 'used_flashcards': True,  'handedness': 'right', 'coffee_consumed': 5,  'hours_slept': 6}\n",
    "]"
   ]
  },
  {
   "cell_type": "markdown",
   "id": "396565be-5b9a-4404-a9f7-4714a9f384c8",
   "metadata": {},
   "source": [
    "# Phase 1: Python *without* Pandas.  Do the following without Pandas."
   ]
  },
  {
   "cell_type": "markdown",
   "id": "982780cb-6f15-4dbb-884c-2c902d13c10d",
   "metadata": {},
   "source": [
    "#### 1. Examine students.\n",
    " -  What data type is students? Use Python to verify.\n",
    " -  Describe the contents of the variable students.  How do you know this? Do you feel this is a useful data format? Why or Why Not?"
   ]
  },
  {
   "cell_type": "code",
   "execution_count": 3,
   "id": "96867654-00e3-4c74-95ad-41a5417edb63",
   "metadata": {},
   "outputs": [
    {
     "data": {
      "text/plain": [
       "list"
      ]
     },
     "execution_count": 3,
     "metadata": {},
     "output_type": "execute_result"
    }
   ],
   "source": [
    "type(students)"
   ]
  },
  {
   "cell_type": "code",
   "execution_count": 4,
   "id": "a3057185-40a5-4d32-90ed-6970aff6e5e9",
   "metadata": {
    "tags": []
   },
   "outputs": [
    {
     "data": {
      "text/plain": [
       "[dict,\n",
       " dict,\n",
       " dict,\n",
       " dict,\n",
       " dict,\n",
       " dict,\n",
       " dict,\n",
       " dict,\n",
       " dict,\n",
       " dict,\n",
       " dict,\n",
       " dict,\n",
       " dict,\n",
       " dict,\n",
       " dict,\n",
       " dict,\n",
       " dict,\n",
       " dict,\n",
       " dict,\n",
       " dict]"
      ]
     },
     "execution_count": 4,
     "metadata": {},
     "output_type": "execute_result"
    }
   ],
   "source": [
    "[type(item) for item in students]"
   ]
  },
  {
   "cell_type": "code",
   "execution_count": 5,
   "id": "83d7bfbf-34a7-4a69-9c07-bd91f00db745",
   "metadata": {},
   "outputs": [
    {
     "data": {
      "text/plain": [
       "'\\nStudents is a list of dictionaries where each dictionary has a set of equivalent attribute. I ran a for loop over the contents of students in order to verify data type. This is useful because it confirmed a certain type of uniformity between list members. I visually inspected the list to verify each dictionary had similar keys.\\nThis format is useful because it allows for some sort of comparison or tabulation. \\n'"
      ]
     },
     "execution_count": 5,
     "metadata": {},
     "output_type": "execute_result"
    }
   ],
   "source": [
    "# Write your response here:\n",
    "'''\n",
    "Students is a list of dictionaries where each dictionary has a set of equivalent attribute. I ran a for loop over the contents of students in order to verify data type. This is useful because it confirmed a certain type of uniformity between list members. I visually inspected the list to verify each dictionary had similar keys.\n",
    "This format is useful because it allows for some sort of comparison or tabulation. \n",
    "'''"
   ]
  },
  {
   "cell_type": "markdown",
   "id": "23c51c96-1b4b-47da-a20d-dddcbd243793",
   "metadata": {},
   "source": [
    "-  Write a function called `get_max_hours_studied` that takes in a list of dictionaries like students and returns the value of the maximum hours studied within the data set"
   ]
  },
  {
   "cell_type": "code",
   "execution_count": 6,
   "id": "100d1b3b-e24a-43a8-8a11-808ff4267470",
   "metadata": {},
   "outputs": [],
   "source": [
    "#create function skeleton\n",
    "#create for loop to iterate over the list\n",
    "#create comparison check. need variable for initial comparison. replace with greater value during loops\n",
    "#return max value"
   ]
  },
  {
   "cell_type": "code",
   "execution_count": 7,
   "id": "d38cd9a2-12dc-41e8-9ee7-565fc2b1d3a5",
   "metadata": {},
   "outputs": [],
   "source": [
    "# write your function in this cell.\n",
    "\n",
    "def get_max_hours_studied (dict_to_check):\n",
    "    \"\"\"\n",
    "    \"\"\"\n",
    "    max_study_hours = 0\n",
    "    for person in dict_to_check:\n",
    "        if person['hours_studied'] > max_study_hours:\n",
    "            max_study_hours = person['hours_studied']\n",
    "    return max_study_hours\n"
   ]
  },
  {
   "cell_type": "code",
   "execution_count": 8,
   "id": "7090875e-c72c-4c67-bbf3-ab1db309a6b8",
   "metadata": {},
   "outputs": [],
   "source": [
    "assert(round(get_max_hours_studied(students), 2) == 9.68)"
   ]
  },
  {
   "cell_type": "markdown",
   "id": "3a60eb87-8284-46aa-88c7-6f48c7e17c62",
   "metadata": {},
   "source": [
    "#### Observe the variable student_names defined below.\n",
    " - Write a loop that will traverse students and add a key called 'student_name' to the record, populated with each of the values inside of student names by index order."
   ]
  },
  {
   "cell_type": "code",
   "execution_count": 9,
   "id": "0950e2c3-21ba-44ff-b99d-e8326f0ae4ab",
   "metadata": {},
   "outputs": [],
   "source": [
    "student_names = [\n",
    "    'Jill', \n",
    "    'Mindy',\n",
    "    'Kathy', \n",
    "    'Hussain', \n",
    "    'Priya', \n",
    "    'Jasmine', \n",
    "    'Abdul', \n",
    "    'Ren',\n",
    "    'Lupita',\n",
    "    'Patch',\n",
    "    'Marwan',\n",
    "    'Stacy',\n",
    "    'Sylvia',\n",
    "    'Bo',\n",
    "    'Vivian',\n",
    "    'Connor',\n",
    "    'Hank',\n",
    "    'Rocko',\n",
    "    'Filbert',\n",
    "    'Upton'\n",
    "]"
   ]
  },
  {
   "cell_type": "code",
   "execution_count": 10,
   "id": "8c7cebf5-2e1e-4d41-96f4-3c68ab10c665",
   "metadata": {},
   "outputs": [],
   "source": [
    "# plan of action:\n",
    "# traverse the students list, add in a key called student_name that is equivalent (paired) to \n",
    "# the value associated within that index of student_names\n",
    "#create loop over dict\n",
    "#create iterator variable starting at zero\n",
    "#create assign to new student_name key"
   ]
  },
  {
   "cell_type": "code",
   "execution_count": 11,
   "id": "f151916e-7d55-4d98-b058-cb57a2d66235",
   "metadata": {},
   "outputs": [],
   "source": [
    "# Write your loop here:\n",
    "i = 0\n",
    "for student in students:\n",
    "    student['student_name'] = student_names[i]\n",
    "    i += 1"
   ]
  },
  {
   "cell_type": "code",
   "execution_count": 12,
   "id": "a58c42e7-ba68-409d-a237-f47db8a16c7a",
   "metadata": {},
   "outputs": [],
   "source": [
    "assert([student['student_name'] for student in students] == student_names)"
   ]
  },
  {
   "cell_type": "markdown",
   "id": "550b0613-c21e-4424-a5ae-682e1c788a7c",
   "metadata": {},
   "source": [
    " - Write a function called `well_read` that will take in a list of dictionaries as an argument and return the name of the student who has studied the most."
   ]
  },
  {
   "cell_type": "code",
   "execution_count": 13,
   "id": "8c57e567-a943-43f9-8762-4f9c03dfeb1f",
   "metadata": {},
   "outputs": [],
   "source": [
    "#create function skeleton\n",
    "#loop over list\n",
    "#compare study(hours) to max value, which we can get from using previous helper function\n",
    "#return student with study hours that match max value"
   ]
  },
  {
   "cell_type": "code",
   "execution_count": 14,
   "id": "f79f5470-a4df-4102-a2d9-29484baca0ed",
   "metadata": {},
   "outputs": [],
   "source": [
    "# write your function in this cell:\n",
    "def well_read(dict_to_check):\n",
    "    most_read = 0\n",
    "    for student in dict_to_check:\n",
    "        if student['hours_studied'] == get_max_hours_studied(students):\n",
    "            most_read = student['student_name']\n",
    "    return most_read"
   ]
  },
  {
   "cell_type": "code",
   "execution_count": 15,
   "id": "30a8c237-a178-4dea-8cf5-2e20b3a01937",
   "metadata": {},
   "outputs": [
    {
     "data": {
      "text/plain": [
       "'Lupita'"
      ]
     },
     "execution_count": 15,
     "metadata": {},
     "output_type": "execute_result"
    }
   ],
   "source": [
    "well_read(students)"
   ]
  },
  {
   "cell_type": "code",
   "execution_count": 16,
   "id": "c0962d71-1ee3-4260-bae8-d9bd5e3cf3c1",
   "metadata": {},
   "outputs": [],
   "source": [
    "# Extra fancy bonus:\n",
    "# re-write well_read as a one-liner using list comprehension\n"
   ]
  },
  {
   "cell_type": "code",
   "execution_count": 17,
   "id": "caa41c0a-cd28-477b-b871-4c4261007cd3",
   "metadata": {},
   "outputs": [],
   "source": [
    "assert(well_read(students) == 'Lupita')"
   ]
  },
  {
   "cell_type": "markdown",
   "id": "423cb67a-488f-4a59-96fc-90b16b4dacdb",
   "metadata": {},
   "source": [
    " - What proportion of students that passed used flashcards? Store it as a percentage with one decimal place in a variable called `flash_success`\n"
   ]
  },
  {
   "cell_type": "code",
   "execution_count": 18,
   "id": "6f6ee4d9-f484-42be-b03d-b7a1fc31eacc",
   "metadata": {},
   "outputs": [],
   "source": [
    "#need percentage of students that passed. we will use 70\n",
    "#need percetnage of that value. "
   ]
  },
  {
   "cell_type": "code",
   "execution_count": 19,
   "id": "9982fb24-69e8-442a-a8e5-b159b28574e6",
   "metadata": {},
   "outputs": [
    {
     "data": {
      "text/plain": [
       "4"
      ]
     },
     "execution_count": 19,
     "metadata": {},
     "output_type": "execute_result"
    }
   ],
   "source": [
    "passed = 0\n",
    "used_flash = 0\n",
    "for student in students:\n",
    "    if student['exam_score'] > 70:\n",
    "        passed += 1\n",
    "        if student['used_flashcards'] == True:\n",
    "            used_flash += 1\n",
    "            \n",
    "passed # -- > 8\n",
    "used_flash # -- > 4"
   ]
  },
  {
   "cell_type": "code",
   "execution_count": 20,
   "id": "8e80bd2c-7afb-4b7c-8c96-6638af5cd2c4",
   "metadata": {},
   "outputs": [],
   "source": [
    "# assign flash_success in this cell.\n",
    "flash_success = round((used_flash / passed) * 100, 2)\n"
   ]
  },
  {
   "cell_type": "code",
   "execution_count": 21,
   "id": "f227daeb-1ff7-4625-841c-799f1d2da09d",
   "metadata": {},
   "outputs": [],
   "source": [
    "assert(flash_success == 50.00)"
   ]
  },
  {
   "cell_type": "markdown",
   "id": "7931edac-fb43-4c01-903e-94d439c29586",
   "metadata": {},
   "source": [
    "#### Alright, time to break out pandas! 🐼"
   ]
  },
  {
   "cell_type": "markdown",
   "id": "4e3498b0-5b8c-49e5-ad11-8520be157023",
   "metadata": {},
   "source": [
    " - Create a dataframe called `student_df` from the students variable that you have at this point."
   ]
  },
  {
   "cell_type": "code",
   "execution_count": 22,
   "id": "47c5c4ff-d3ee-4622-b792-b3c2921ad26e",
   "metadata": {},
   "outputs": [],
   "source": [
    "import numpy as np\n",
    "import pandas as pd"
   ]
  },
  {
   "cell_type": "code",
   "execution_count": 23,
   "id": "b32391e6-2ecc-480c-80a7-e6c792ee9866",
   "metadata": {},
   "outputs": [],
   "source": [
    "# create your DataFrame here.\n",
    "student_df = pd.DataFrame(students)"
   ]
  },
  {
   "cell_type": "markdown",
   "id": "4d6d3af6-acc9-4b2c-904e-0ab09c845b87",
   "metadata": {},
   "source": [
    " - Make a new column inside of `student_df` called `'classroom'` using the following code.  Keep your numpy random seed to 123."
   ]
  },
  {
   "cell_type": "code",
   "execution_count": 24,
   "id": "3e18873e-5afe-4c86-8406-975d7ec35c51",
   "metadata": {
    "tags": []
   },
   "outputs": [],
   "source": [
    "np.random.seed(123)\n",
    "classrooms = np.random.choice(['A', 'B'], len(student_df))"
   ]
  },
  {
   "cell_type": "code",
   "execution_count": 25,
   "id": "40392f65-74ee-49ba-b6ce-b04f386a7380",
   "metadata": {},
   "outputs": [
    {
     "data": {
      "text/plain": [
       "array(['A', 'B', 'A', 'A', 'A', 'A', 'A', 'B', 'B', 'A', 'B', 'B', 'A',\n",
       "       'B', 'A', 'B', 'A', 'B', 'B', 'A'], dtype='<U1')"
      ]
     },
     "execution_count": 25,
     "metadata": {},
     "output_type": "execute_result"
    }
   ],
   "source": [
    "classrooms"
   ]
  },
  {
   "cell_type": "code",
   "execution_count": 26,
   "id": "a57dafa9-8c48-4533-be0b-35d64569a36a",
   "metadata": {},
   "outputs": [],
   "source": [
    "# put the value of classrooms into your new column in this cell.\n",
    "student_df['classroom'] = pd.Series(classrooms)"
   ]
  },
  {
   "cell_type": "code",
   "execution_count": 27,
   "id": "e8a72e8f-c425-4658-90f1-46b036a4aafd",
   "metadata": {},
   "outputs": [],
   "source": [
    "assert(list(student_df.classroom.values) == list(classrooms))"
   ]
  },
  {
   "cell_type": "code",
   "execution_count": 29,
   "id": "e4abbc10-798a-41e4-a62f-96c068131c56",
   "metadata": {},
   "outputs": [
    {
     "data": {
      "text/html": [
       "<div>\n",
       "<style scoped>\n",
       "    .dataframe tbody tr th:only-of-type {\n",
       "        vertical-align: middle;\n",
       "    }\n",
       "\n",
       "    .dataframe tbody tr th {\n",
       "        vertical-align: top;\n",
       "    }\n",
       "\n",
       "    .dataframe thead th {\n",
       "        text-align: right;\n",
       "    }\n",
       "</style>\n",
       "<table border=\"1\" class=\"dataframe\">\n",
       "  <thead>\n",
       "    <tr style=\"text-align: right;\">\n",
       "      <th></th>\n",
       "      <th>exam_score</th>\n",
       "      <th>hours_studied</th>\n",
       "      <th>used_flashcards</th>\n",
       "      <th>handedness</th>\n",
       "      <th>coffee_consumed</th>\n",
       "      <th>hours_slept</th>\n",
       "      <th>student_name</th>\n",
       "      <th>classroom</th>\n",
       "    </tr>\n",
       "  </thead>\n",
       "  <tbody>\n",
       "    <tr>\n",
       "      <th>0</th>\n",
       "      <td>67.574374</td>\n",
       "      <td>8.478692</td>\n",
       "      <td>True</td>\n",
       "      <td>left</td>\n",
       "      <td>4</td>\n",
       "      <td>7</td>\n",
       "      <td>Jill</td>\n",
       "      <td>A</td>\n",
       "    </tr>\n",
       "    <tr>\n",
       "      <th>1</th>\n",
       "      <td>59.098398</td>\n",
       "      <td>5.773753</td>\n",
       "      <td>True</td>\n",
       "      <td>right</td>\n",
       "      <td>5</td>\n",
       "      <td>6</td>\n",
       "      <td>Mindy</td>\n",
       "      <td>B</td>\n",
       "    </tr>\n",
       "    <tr>\n",
       "      <th>2</th>\n",
       "      <td>40.235324</td>\n",
       "      <td>4.280227</td>\n",
       "      <td>True</td>\n",
       "      <td>left</td>\n",
       "      <td>6</td>\n",
       "      <td>5</td>\n",
       "      <td>Kathy</td>\n",
       "      <td>A</td>\n",
       "    </tr>\n",
       "    <tr>\n",
       "      <th>3</th>\n",
       "      <td>68.572847</td>\n",
       "      <td>8.204969</td>\n",
       "      <td>False</td>\n",
       "      <td>right</td>\n",
       "      <td>4</td>\n",
       "      <td>7</td>\n",
       "      <td>Hussain</td>\n",
       "      <td>A</td>\n",
       "    </tr>\n",
       "    <tr>\n",
       "      <th>4</th>\n",
       "      <td>78.890913</td>\n",
       "      <td>8.887383</td>\n",
       "      <td>False</td>\n",
       "      <td>right</td>\n",
       "      <td>3</td>\n",
       "      <td>8</td>\n",
       "      <td>Priya</td>\n",
       "      <td>A</td>\n",
       "    </tr>\n",
       "  </tbody>\n",
       "</table>\n",
       "</div>"
      ],
      "text/plain": [
       "   exam_score  hours_studied  used_flashcards handedness  coffee_consumed  \\\n",
       "0   67.574374       8.478692             True       left                4   \n",
       "1   59.098398       5.773753             True      right                5   \n",
       "2   40.235324       4.280227             True       left                6   \n",
       "3   68.572847       8.204969            False      right                4   \n",
       "4   78.890913       8.887383            False      right                3   \n",
       "\n",
       "   hours_slept student_name classroom  \n",
       "0            7         Jill         A  \n",
       "1            6        Mindy         B  \n",
       "2            5        Kathy         A  \n",
       "3            7      Hussain         A  \n",
       "4            8        Priya         A  "
      ]
     },
     "execution_count": 29,
     "metadata": {},
     "output_type": "execute_result"
    }
   ],
   "source": [
    "student_df.head()"
   ]
  },
  {
   "cell_type": "markdown",
   "id": "4e520be2-75b8-4fb3-9e55-b312fb60056c",
   "metadata": {},
   "source": [
    " - Create a single groupby aggregation that will output the maximum and minimum exam scores and hours slept for every combination of classroom and handedness."
   ]
  },
  {
   "cell_type": "code",
   "execution_count": 61,
   "id": "dc730fb3-4d05-4549-a4ff-6f4c0bb1c081",
   "metadata": {},
   "outputs": [
    {
     "data": {
      "text/html": [
       "<div>\n",
       "<style scoped>\n",
       "    .dataframe tbody tr th:only-of-type {\n",
       "        vertical-align: middle;\n",
       "    }\n",
       "\n",
       "    .dataframe tbody tr th {\n",
       "        vertical-align: top;\n",
       "    }\n",
       "\n",
       "    .dataframe thead tr th {\n",
       "        text-align: left;\n",
       "    }\n",
       "\n",
       "    .dataframe thead tr:last-of-type th {\n",
       "        text-align: right;\n",
       "    }\n",
       "</style>\n",
       "<table border=\"1\" class=\"dataframe\">\n",
       "  <thead>\n",
       "    <tr>\n",
       "      <th></th>\n",
       "      <th></th>\n",
       "      <th colspan=\"2\" halign=\"left\">exam_score</th>\n",
       "      <th colspan=\"2\" halign=\"left\">hours_slept</th>\n",
       "    </tr>\n",
       "    <tr>\n",
       "      <th></th>\n",
       "      <th></th>\n",
       "      <th>max</th>\n",
       "      <th>min</th>\n",
       "      <th>max</th>\n",
       "      <th>min</th>\n",
       "    </tr>\n",
       "    <tr>\n",
       "      <th>classroom</th>\n",
       "      <th>handedness</th>\n",
       "      <th></th>\n",
       "      <th></th>\n",
       "      <th></th>\n",
       "      <th></th>\n",
       "    </tr>\n",
       "  </thead>\n",
       "  <tbody>\n",
       "    <tr>\n",
       "      <th rowspan=\"2\" valign=\"top\">A</th>\n",
       "      <th>left</th>\n",
       "      <td>99.628593</td>\n",
       "      <td>40.235324</td>\n",
       "      <td>10</td>\n",
       "      <td>5</td>\n",
       "    </tr>\n",
       "    <tr>\n",
       "      <th>right</th>\n",
       "      <td>78.890913</td>\n",
       "      <td>1.697189</td>\n",
       "      <td>8</td>\n",
       "      <td>1</td>\n",
       "    </tr>\n",
       "    <tr>\n",
       "      <th rowspan=\"2\" valign=\"top\">B</th>\n",
       "      <th>left</th>\n",
       "      <td>100.000000</td>\n",
       "      <td>48.317365</td>\n",
       "      <td>11</td>\n",
       "      <td>5</td>\n",
       "    </tr>\n",
       "    <tr>\n",
       "      <th>right</th>\n",
       "      <td>100.000000</td>\n",
       "      <td>35.743657</td>\n",
       "      <td>11</td>\n",
       "      <td>4</td>\n",
       "    </tr>\n",
       "  </tbody>\n",
       "</table>\n",
       "</div>"
      ],
      "text/plain": [
       "                      exam_score            hours_slept    \n",
       "                             max        min         max min\n",
       "classroom handedness                                       \n",
       "A         left         99.628593  40.235324          10   5\n",
       "          right        78.890913   1.697189           8   1\n",
       "B         left        100.000000  48.317365          11   5\n",
       "          right       100.000000  35.743657          11   4"
      ]
     },
     "execution_count": 61,
     "metadata": {},
     "output_type": "execute_result"
    }
   ],
   "source": [
    "# write your aggregation in this cell:\n",
    "student_df[['exam_score', 'hours_slept','classroom', 'handedness']].groupby(['classroom', 'handedness']).agg(['min', 'max']) "
   ]
  },
  {
   "cell_type": "markdown",
   "id": "812fe962-e67a-4820-8c2a-daad90d1ef07",
   "metadata": {},
   "source": [
    " - Write a function called `best_rested_performer` that takes in a DataFrame and returns the name of the student in student_df that has the highest grade, that slept the most.\n",
    " \n",
    "(hint: sort by exam score, then by hours slept, and make sure your function returns a string literal!)"
   ]
  },
  {
   "cell_type": "code",
   "execution_count": 65,
   "id": "590fa279-b808-4607-924b-0c8102874c87",
   "metadata": {},
   "outputs": [
    {
     "data": {
      "text/plain": [
       "10    Marwan\n",
       "Name: student_name, dtype: object"
      ]
     },
     "execution_count": 65,
     "metadata": {},
     "output_type": "execute_result"
    }
   ],
   "source": [
    "student_df.sort_values(by=['exam_score', 'hours_slept'], ascending=False).head(1).student_name.astype(str)"
   ]
  },
  {
   "cell_type": "code",
   "execution_count": 76,
   "id": "ad0dd931-f69a-4568-ae74-d8c94e99311a",
   "metadata": {},
   "outputs": [],
   "source": [
    "test = student_df.sort_values(by=['exam_score', 'hours_slept'], ascending=False).head(1).student_name.values[0]"
   ]
  },
  {
   "cell_type": "code",
   "execution_count": 77,
   "id": "92b10cd4-7c46-4a0f-a0e3-88fa51ea45ac",
   "metadata": {},
   "outputs": [
    {
     "data": {
      "text/plain": [
       "'Marwan'"
      ]
     },
     "execution_count": 77,
     "metadata": {},
     "output_type": "execute_result"
    }
   ],
   "source": [
    "test"
   ]
  },
  {
   "cell_type": "code",
   "execution_count": 82,
   "id": "81e2b93a-5c67-4e04-a0a9-e4001587e1b4",
   "metadata": {},
   "outputs": [],
   "source": [
    "# write your function in this cell:\n",
    "def best_rested_performer (students):\n",
    "    \"\"\"\n",
    "    \"\"\"\n",
    "    student = student_df.sort_values(by=['exam_score', 'hours_slept'], ascending=False).head(1).student_name.values[0]\n",
    "    return student"
   ]
  },
  {
   "cell_type": "code",
   "execution_count": 83,
   "id": "4afbe2ba-a23e-4f34-9909-415c482aa702",
   "metadata": {},
   "outputs": [],
   "source": [
    "assert(best_rested_performer(student_df)) == 'Marwan'"
   ]
  },
  {
   "cell_type": "markdown",
   "id": "063ace38-af61-48df-8e52-98c5c24e786a",
   "metadata": {},
   "source": [
    " - Utilize the following dictionary to create a new column called `'room_no'` that tells a student where they should be going."
   ]
  },
  {
   "cell_type": "code",
   "execution_count": 85,
   "id": "3b5d38f7-847a-4b26-896d-ca9f901d1fef",
   "metadata": {},
   "outputs": [],
   "source": [
    "classroom_location = {\n",
    "    'A': 'Humanities Building, Room 204',\n",
    "    'B': 'Business Building, Room 318',\n",
    "    'C': 'Humanities Building, Room 113'\n",
    "}"
   ]
  },
  {
   "cell_type": "code",
   "execution_count": 88,
   "id": "f006fb71-02a1-44a9-83b9-c743987c3e41",
   "metadata": {},
   "outputs": [],
   "source": [
    "student_df['room_no'] = student_df.classroom.map(classroom_location)"
   ]
  },
  {
   "cell_type": "code",
   "execution_count": 89,
   "id": "b5fc8601-0bc0-4155-9970-fb43d9ab4b41",
   "metadata": {},
   "outputs": [
    {
     "data": {
      "text/html": [
       "<div>\n",
       "<style scoped>\n",
       "    .dataframe tbody tr th:only-of-type {\n",
       "        vertical-align: middle;\n",
       "    }\n",
       "\n",
       "    .dataframe tbody tr th {\n",
       "        vertical-align: top;\n",
       "    }\n",
       "\n",
       "    .dataframe thead th {\n",
       "        text-align: right;\n",
       "    }\n",
       "</style>\n",
       "<table border=\"1\" class=\"dataframe\">\n",
       "  <thead>\n",
       "    <tr style=\"text-align: right;\">\n",
       "      <th></th>\n",
       "      <th>exam_score</th>\n",
       "      <th>hours_studied</th>\n",
       "      <th>used_flashcards</th>\n",
       "      <th>handedness</th>\n",
       "      <th>coffee_consumed</th>\n",
       "      <th>hours_slept</th>\n",
       "      <th>student_name</th>\n",
       "      <th>classroom</th>\n",
       "      <th>room_no</th>\n",
       "    </tr>\n",
       "  </thead>\n",
       "  <tbody>\n",
       "    <tr>\n",
       "      <th>0</th>\n",
       "      <td>67.574374</td>\n",
       "      <td>8.478692</td>\n",
       "      <td>True</td>\n",
       "      <td>left</td>\n",
       "      <td>4</td>\n",
       "      <td>7</td>\n",
       "      <td>Jill</td>\n",
       "      <td>A</td>\n",
       "      <td>Humanities Building, Room 204</td>\n",
       "    </tr>\n",
       "    <tr>\n",
       "      <th>1</th>\n",
       "      <td>59.098398</td>\n",
       "      <td>5.773753</td>\n",
       "      <td>True</td>\n",
       "      <td>right</td>\n",
       "      <td>5</td>\n",
       "      <td>6</td>\n",
       "      <td>Mindy</td>\n",
       "      <td>B</td>\n",
       "      <td>Business Building, Room 318</td>\n",
       "    </tr>\n",
       "    <tr>\n",
       "      <th>2</th>\n",
       "      <td>40.235324</td>\n",
       "      <td>4.280227</td>\n",
       "      <td>True</td>\n",
       "      <td>left</td>\n",
       "      <td>6</td>\n",
       "      <td>5</td>\n",
       "      <td>Kathy</td>\n",
       "      <td>A</td>\n",
       "      <td>Humanities Building, Room 204</td>\n",
       "    </tr>\n",
       "    <tr>\n",
       "      <th>3</th>\n",
       "      <td>68.572847</td>\n",
       "      <td>8.204969</td>\n",
       "      <td>False</td>\n",
       "      <td>right</td>\n",
       "      <td>4</td>\n",
       "      <td>7</td>\n",
       "      <td>Hussain</td>\n",
       "      <td>A</td>\n",
       "      <td>Humanities Building, Room 204</td>\n",
       "    </tr>\n",
       "    <tr>\n",
       "      <th>4</th>\n",
       "      <td>78.890913</td>\n",
       "      <td>8.887383</td>\n",
       "      <td>False</td>\n",
       "      <td>right</td>\n",
       "      <td>3</td>\n",
       "      <td>8</td>\n",
       "      <td>Priya</td>\n",
       "      <td>A</td>\n",
       "      <td>Humanities Building, Room 204</td>\n",
       "    </tr>\n",
       "  </tbody>\n",
       "</table>\n",
       "</div>"
      ],
      "text/plain": [
       "   exam_score  hours_studied  used_flashcards handedness  coffee_consumed  \\\n",
       "0   67.574374       8.478692             True       left                4   \n",
       "1   59.098398       5.773753             True      right                5   \n",
       "2   40.235324       4.280227             True       left                6   \n",
       "3   68.572847       8.204969            False      right                4   \n",
       "4   78.890913       8.887383            False      right                3   \n",
       "\n",
       "   hours_slept student_name classroom                        room_no  \n",
       "0            7         Jill         A  Humanities Building, Room 204  \n",
       "1            6        Mindy         B    Business Building, Room 318  \n",
       "2            5        Kathy         A  Humanities Building, Room 204  \n",
       "3            7      Hussain         A  Humanities Building, Room 204  \n",
       "4            8        Priya         A  Humanities Building, Room 204  "
      ]
     },
     "execution_count": 89,
     "metadata": {},
     "output_type": "execute_result"
    }
   ],
   "source": [
    "student_df.head()"
   ]
  },
  {
   "cell_type": "markdown",
   "id": "bb004e5f-cf06-4b23-a968-925b84fb69ff",
   "metadata": {},
   "source": [
    " - Write a function called `sleepy_goat_ratio` that takes in a DataFrame as an argument, that returns a one-decimal percentage value of the proportion of students that slept at least eight hours and passed the exam out of the entire class. Consider a grade of 70 as passing."
   ]
  },
  {
   "cell_type": "code",
   "execution_count": 107,
   "id": "93d21e2f-c290-4f62-a8e2-2a34dbf102e1",
   "metadata": {},
   "outputs": [
    {
     "data": {
      "text/html": [
       "<div>\n",
       "<style scoped>\n",
       "    .dataframe tbody tr th:only-of-type {\n",
       "        vertical-align: middle;\n",
       "    }\n",
       "\n",
       "    .dataframe tbody tr th {\n",
       "        vertical-align: top;\n",
       "    }\n",
       "\n",
       "    .dataframe thead th {\n",
       "        text-align: right;\n",
       "    }\n",
       "</style>\n",
       "<table border=\"1\" class=\"dataframe\">\n",
       "  <thead>\n",
       "    <tr style=\"text-align: right;\">\n",
       "      <th></th>\n",
       "      <th>exam_score</th>\n",
       "      <th>hours_studied</th>\n",
       "      <th>used_flashcards</th>\n",
       "      <th>handedness</th>\n",
       "      <th>coffee_consumed</th>\n",
       "      <th>hours_slept</th>\n",
       "      <th>student_name</th>\n",
       "      <th>classroom</th>\n",
       "      <th>room_no</th>\n",
       "    </tr>\n",
       "  </thead>\n",
       "  <tbody>\n",
       "    <tr>\n",
       "      <th>4</th>\n",
       "      <td>78.890913</td>\n",
       "      <td>8.887383</td>\n",
       "      <td>False</td>\n",
       "      <td>right</td>\n",
       "      <td>3</td>\n",
       "      <td>8</td>\n",
       "      <td>Priya</td>\n",
       "      <td>A</td>\n",
       "      <td>Humanities Building, Room 204</td>\n",
       "    </tr>\n",
       "    <tr>\n",
       "      <th>5</th>\n",
       "      <td>99.628593</td>\n",
       "      <td>5.887577</td>\n",
       "      <td>True</td>\n",
       "      <td>left</td>\n",
       "      <td>1</td>\n",
       "      <td>10</td>\n",
       "      <td>Jasmine</td>\n",
       "      <td>A</td>\n",
       "      <td>Humanities Building, Room 204</td>\n",
       "    </tr>\n",
       "    <tr>\n",
       "      <th>6</th>\n",
       "      <td>71.537602</td>\n",
       "      <td>8.675529</td>\n",
       "      <td>True</td>\n",
       "      <td>right</td>\n",
       "      <td>3</td>\n",
       "      <td>8</td>\n",
       "      <td>Abdul</td>\n",
       "      <td>A</td>\n",
       "      <td>Humanities Building, Room 204</td>\n",
       "    </tr>\n",
       "    <tr>\n",
       "      <th>7</th>\n",
       "      <td>91.209319</td>\n",
       "      <td>7.794935</td>\n",
       "      <td>True</td>\n",
       "      <td>left</td>\n",
       "      <td>1</td>\n",
       "      <td>10</td>\n",
       "      <td>Ren</td>\n",
       "      <td>B</td>\n",
       "      <td>Business Building, Room 318</td>\n",
       "    </tr>\n",
       "    <tr>\n",
       "      <th>8</th>\n",
       "      <td>95.637086</td>\n",
       "      <td>9.677438</td>\n",
       "      <td>False</td>\n",
       "      <td>left</td>\n",
       "      <td>1</td>\n",
       "      <td>10</td>\n",
       "      <td>Lupita</td>\n",
       "      <td>B</td>\n",
       "      <td>Business Building, Room 318</td>\n",
       "    </tr>\n",
       "    <tr>\n",
       "      <th>10</th>\n",
       "      <td>100.000000</td>\n",
       "      <td>9.126291</td>\n",
       "      <td>False</td>\n",
       "      <td>left</td>\n",
       "      <td>0</td>\n",
       "      <td>11</td>\n",
       "      <td>Marwan</td>\n",
       "      <td>B</td>\n",
       "      <td>Business Building, Room 318</td>\n",
       "    </tr>\n",
       "    <tr>\n",
       "      <th>11</th>\n",
       "      <td>73.164623</td>\n",
       "      <td>5.887551</td>\n",
       "      <td>True</td>\n",
       "      <td>right</td>\n",
       "      <td>3</td>\n",
       "      <td>8</td>\n",
       "      <td>Stacy</td>\n",
       "      <td>B</td>\n",
       "      <td>Business Building, Room 318</td>\n",
       "    </tr>\n",
       "    <tr>\n",
       "      <th>17</th>\n",
       "      <td>100.000000</td>\n",
       "      <td>8.123731</td>\n",
       "      <td>False</td>\n",
       "      <td>right</td>\n",
       "      <td>0</td>\n",
       "      <td>11</td>\n",
       "      <td>Rocko</td>\n",
       "      <td>B</td>\n",
       "      <td>Business Building, Room 318</td>\n",
       "    </tr>\n",
       "  </tbody>\n",
       "</table>\n",
       "</div>"
      ],
      "text/plain": [
       "    exam_score  hours_studied  used_flashcards handedness  coffee_consumed  \\\n",
       "4    78.890913       8.887383            False      right                3   \n",
       "5    99.628593       5.887577             True       left                1   \n",
       "6    71.537602       8.675529             True      right                3   \n",
       "7    91.209319       7.794935             True       left                1   \n",
       "8    95.637086       9.677438            False       left                1   \n",
       "10  100.000000       9.126291            False       left                0   \n",
       "11   73.164623       5.887551             True      right                3   \n",
       "17  100.000000       8.123731            False      right                0   \n",
       "\n",
       "    hours_slept student_name classroom                        room_no  \n",
       "4             8        Priya         A  Humanities Building, Room 204  \n",
       "5            10      Jasmine         A  Humanities Building, Room 204  \n",
       "6             8        Abdul         A  Humanities Building, Room 204  \n",
       "7            10          Ren         B    Business Building, Room 318  \n",
       "8            10       Lupita         B    Business Building, Room 318  \n",
       "10           11       Marwan         B    Business Building, Room 318  \n",
       "11            8        Stacy         B    Business Building, Room 318  \n",
       "17           11        Rocko         B    Business Building, Room 318  "
      ]
     },
     "execution_count": 107,
     "metadata": {},
     "output_type": "execute_result"
    }
   ],
   "source": []
  },
  {
   "cell_type": "code",
   "execution_count": 112,
   "id": "3b24db31-dd26-4ac1-aa96-d9744b15fde0",
   "metadata": {},
   "outputs": [],
   "source": [
    "# write your function in this cell:\n",
    "def sleepy_goat_ratio (students):\n",
    "    \"\"\"\n",
    "    \"\"\"\n",
    "    count = len(student_df[(student_df['exam_score'] >= 70) * (student_df['hours_slept'] >= 8)])\n",
    "    \n",
    "    return count / len(student_df) * 100"
   ]
  },
  {
   "cell_type": "code",
   "execution_count": 111,
   "id": "df37a62e-68fc-4161-9dc3-0ce1276432d4",
   "metadata": {},
   "outputs": [
    {
     "ename": "AssertionError",
     "evalue": "",
     "output_type": "error",
     "traceback": [
      "\u001b[0;31m---------------------------------------------------------------------------\u001b[0m",
      "\u001b[0;31mAssertionError\u001b[0m                            Traceback (most recent call last)",
      "Input \u001b[0;32mIn [111]\u001b[0m, in \u001b[0;36m<cell line: 1>\u001b[0;34m()\u001b[0m\n\u001b[0;32m----> 1\u001b[0m \u001b[38;5;28;01massert\u001b[39;00m(sleepy_goat_ratio(student_df) \u001b[38;5;241m==\u001b[39m \u001b[38;5;241m40.0\u001b[39m)\n",
      "\u001b[0;31mAssertionError\u001b[0m: "
     ]
    }
   ],
   "source": [
    "assert(sleepy_goat_ratio(student_df) == 40.0)"
   ]
  }
 ],
 "metadata": {
  "kernelspec": {
   "display_name": "Python 3 (ipykernel)",
   "language": "python",
   "name": "python3"
  },
  "language_info": {
   "codemirror_mode": {
    "name": "ipython",
    "version": 3
   },
   "file_extension": ".py",
   "mimetype": "text/x-python",
   "name": "python",
   "nbconvert_exporter": "python",
   "pygments_lexer": "ipython3",
   "version": "3.9.12"
  }
 },
 "nbformat": 4,
 "nbformat_minor": 5
}
